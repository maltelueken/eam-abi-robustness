{
 "cells": [
  {
   "cell_type": "code",
   "execution_count": 1,
   "metadata": {},
   "outputs": [],
   "source": [
    "from functools import partial\n",
    "\n",
    "import os\n",
    "if \"KERAS_BACKEND\" not in os.environ:\n",
    "    # set this to \"torch\", \"tensorflow\", or \"jax\"\n",
    "    os.environ[\"KERAS_BACKEND\"] = \"jax\"\n",
    "\n",
    "import numpy as np\n",
    "import bayesflow as bf\n",
    "import keras\n",
    "\n",
    "from priors import rdm_prior_simple\n",
    "from design import random_num_obs_discrete\n",
    "from simulation import rdm_experiment_simple\n",
    "\n",
    "from bayesflow.utils import batched_call, tree_stack"
   ]
  },
  {
   "cell_type": "code",
   "execution_count": 2,
   "metadata": {},
   "outputs": [],
   "source": [
    "prior = partial(rdm_prior_simple, drift_intercept_loc=2,\n",
    "    drift_intercept_scale=1,\n",
    "    drift_slope_loc=2,\n",
    "    drift_slope_scale=1,\n",
    "    sd_true_shape=10,\n",
    "    sd_true_scale=0.2,\n",
    "    threshold_shape=10,\n",
    "    threshold_scale=0.2,\n",
    "    t0_loc=0.2,\n",
    "    t0_scale=0.1,\n",
    "    t0_lower=0)"
   ]
  },
  {
   "cell_type": "code",
   "execution_count": 3,
   "metadata": {},
   "outputs": [
    {
     "data": {
      "text/plain": [
       "{'v_intercept': array([1.95537526, 2.03643292, 2.38406905, 2.06980881, 3.34972961,\n",
       "        2.83652213, 4.4253601 , 2.88190308, 0.14754334, 2.15344113,\n",
       "        1.34355198, 1.40525777, 4.32912583, 0.52175012, 1.58420339,\n",
       "        1.62959361, 1.95521059, 2.97169343, 2.54474749, 0.16199953]),\n",
       " 'v_slope': array([2.32131513, 2.9085572 , 1.62775466, 3.28825945, 2.34459281,\n",
       "        2.27360641, 3.12837419, 3.46645412, 2.19978514, 0.99126966,\n",
       "        2.79991913, 1.54100459, 1.19205535, 1.59248276, 1.06537696,\n",
       "        2.43574518, 2.12081884, 1.42249506, 2.58951566, 3.1441317 ]),\n",
       " 's_true': array([1.84747074, 1.86614251, 2.43687233, 2.55151262, 2.00513866,\n",
       "        1.08257172, 0.73584575, 1.35227617, 2.07134563, 1.93312845,\n",
       "        3.36361351, 2.34877772, 2.69851691, 2.11172094, 1.38261597,\n",
       "        2.21375078, 1.98589538, 1.59637723, 1.75036982, 0.99244079]),\n",
       " 'b': array([1.71040488, 1.73630572, 3.29784917, 2.17377695, 1.81187374,\n",
       "        2.40236884, 2.31030707, 1.78729236, 1.50653086, 3.39872245,\n",
       "        2.44816277, 1.67546851, 1.65567002, 1.72930064, 3.35752559,\n",
       "        1.31177345, 3.46480696, 1.80659811, 2.30008537, 2.74850185]),\n",
       " 't0': array([0.15238169, 0.39219897, 0.19487085, 0.15754853, 0.25406181,\n",
       "        0.29964238, 0.32935994, 0.26172698, 0.1076164 , 0.25385184,\n",
       "        0.2512745 , 0.24414008, 0.24794462, 0.26862006, 0.09382637,\n",
       "        0.16072586, 0.1927942 , 0.32420891, 0.09709516, 0.31099593])}"
      ]
     },
     "execution_count": 3,
     "metadata": {},
     "output_type": "execute_result"
    }
   ],
   "source": [
    "prior(batch_shape=(20,), rng=np.random.default_rng())"
   ]
  },
  {
   "cell_type": "code",
   "execution_count": 4,
   "metadata": {},
   "outputs": [],
   "source": [
    "num_obs = partial(random_num_obs_discrete, values=[100, 250, 500, 1000])"
   ]
  },
  {
   "cell_type": "code",
   "execution_count": 5,
   "metadata": {},
   "outputs": [],
   "source": [
    "sim = partial(rdm_experiment_simple, s_false=1)"
   ]
  },
  {
   "cell_type": "code",
   "execution_count": 6,
   "metadata": {},
   "outputs": [],
   "source": [
    "def batched_sim(batch_shape, **kwargs):\n",
    "    data = batched_call(sim, batch_shape, kwargs=kwargs, flatten=True)\n",
    "    data = tree_stack(data, axis=0, numpy=True)\n",
    "    return data"
   ]
  },
  {
   "cell_type": "code",
   "execution_count": 7,
   "metadata": {},
   "outputs": [],
   "source": [
    "simulator = bf.simulators.CompositeLambdaSimulator([prior, num_obs, batched_sim], **{\"is_batched\": True})"
   ]
  },
  {
   "cell_type": "code",
   "execution_count": 8,
   "metadata": {},
   "outputs": [],
   "source": [
    "sample_data = simulator.sample((10,))"
   ]
  },
  {
   "cell_type": "code",
   "execution_count": 9,
   "metadata": {},
   "outputs": [
    {
     "name": "stdout",
     "output_type": "stream",
     "text": [
      "Type of sample_data:\n",
      "\t <class 'dict'>\n",
      "Keys of sample_data:\n",
      "\t dict_keys(['v_intercept', 'v_slope', 's_true', 'b', 't0', 'num_obs', 'x'])\n",
      "Types of sample_data values:\n",
      "\t {'v_intercept': <class 'numpy.ndarray'>, 'v_slope': <class 'numpy.ndarray'>, 's_true': <class 'numpy.ndarray'>, 'b': <class 'numpy.ndarray'>, 't0': <class 'numpy.ndarray'>, 'num_obs': <class 'numpy.ndarray'>, 'x': <class 'numpy.ndarray'>}\n",
      "Shapes of sample_data values:\n",
      "\t {'v_intercept': (10, 1), 'v_slope': (10, 1), 's_true': (10, 1), 'b': (10, 1), 't0': (10, 1), 'num_obs': (10, 1), 'x': (10, 100, 2)}\n"
     ]
    }
   ],
   "source": [
    "print(\"Type of sample_data:\\n\\t\", type(sample_data))\n",
    "print(\"Keys of sample_data:\\n\\t\", sample_data.keys())\n",
    "print(\"Types of sample_data values:\\n\\t\", {k: type(v) for k, v in sample_data.items()})\n",
    "print(\"Shapes of sample_data values:\\n\\t\", {k: v.shape for k, v in sample_data.items()})"
   ]
  },
  {
   "cell_type": "code",
   "execution_count": 10,
   "metadata": {},
   "outputs": [],
   "source": [
    "data_adapter = bf.ContinuousApproximator.build_data_adapter(\n",
    "    inference_variables=[\"v_intercept\", \"v_slope\", \"s_true\", \"b\", \"t0\"],\n",
    "    inference_conditions=[\"num_obs\"],\n",
    "    summary_variables=[\"x\"],\n",
    "    transforms=[\n",
    "        bf.data_adapters.transforms.Standardize([\"v_intercept\", \"v_slope\", \"s_true\", \"b\", \"t0\"]),\n",
    "        bf.data_adapters.transforms.NumpyTransform(\"num_obs\", forward=\"sqrt\", inverse=\"square\")\n",
    "    ]\n",
    ")"
   ]
  },
  {
   "cell_type": "code",
   "execution_count": 11,
   "metadata": {},
   "outputs": [],
   "source": [
    "summary_network = bf.networks.SetTransformer()"
   ]
  },
  {
   "cell_type": "code",
   "execution_count": 12,
   "metadata": {},
   "outputs": [],
   "source": [
    "inference_network = bf.networks.FlowMatching(\n",
    "    subnet=\"mlp\",\n",
    "    subnet_kwargs=dict(\n",
    "        depth=6,\n",
    "        width=256,\n",
    "    ),\n",
    "    use_optimal_transport=True,\n",
    ")"
   ]
  },
  {
   "cell_type": "code",
   "execution_count": 13,
   "metadata": {},
   "outputs": [],
   "source": [
    "approximator = bf.ContinuousApproximator(\n",
    "    summary_network=summary_network,\n",
    "    inference_network=inference_network,\n",
    "    data_adapter=data_adapter,\n",
    ")"
   ]
  },
  {
   "cell_type": "code",
   "execution_count": 14,
   "metadata": {},
   "outputs": [],
   "source": [
    "import keras\n",
    "\n",
    "learning_rate = 1e-4\n",
    "optimizer = keras.optimizers.Adam(learning_rate=learning_rate)"
   ]
  },
  {
   "cell_type": "code",
   "execution_count": 15,
   "metadata": {},
   "outputs": [],
   "source": [
    "approximator.compile(optimizer=optimizer)"
   ]
  },
  {
   "cell_type": "code",
   "execution_count": 16,
   "metadata": {},
   "outputs": [
    {
     "name": "stderr",
     "output_type": "stream",
     "text": [
      "INFO:bayesflow:Building dataset from simulator instance of CompositeLambdaSimulator.\n",
      "INFO:bayesflow:Using 32 data loading workers.\n",
      "INFO:bayesflow:Building on a test batch.\n"
     ]
    },
    {
     "name": "stdout",
     "output_type": "stream",
     "text": [
      "Epoch 1/5\n",
      "\u001b[1m500/500\u001b[0m \u001b[32m━━━━━━━━━━━━━━━━━━━━\u001b[0m\u001b[37m\u001b[0m \u001b[1m57s\u001b[0m 90ms/step - loss: 1.6968 - loss/inference_loss: 1.6968\n",
      "Epoch 2/5\n",
      "\u001b[1m500/500\u001b[0m \u001b[32m━━━━━━━━━━━━━━━━━━━━\u001b[0m\u001b[37m\u001b[0m \u001b[1m17s\u001b[0m 32ms/step - loss: 1.3059 - loss/inference_loss: 1.3059\n",
      "Epoch 3/5\n",
      "\u001b[1m500/500\u001b[0m \u001b[32m━━━━━━━━━━━━━━━━━━━━\u001b[0m\u001b[37m\u001b[0m \u001b[1m18s\u001b[0m 34ms/step - loss: 1.0376 - loss/inference_loss: 1.0376\n",
      "Epoch 4/5\n",
      "\u001b[1m500/500\u001b[0m \u001b[32m━━━━━━━━━━━━━━━━━━━━\u001b[0m\u001b[37m\u001b[0m \u001b[1m17s\u001b[0m 34ms/step - loss: 0.8730 - loss/inference_loss: 0.8730\n",
      "Epoch 5/5\n",
      "\u001b[1m500/500\u001b[0m \u001b[32m━━━━━━━━━━━━━━━━━━━━\u001b[0m\u001b[37m\u001b[0m \u001b[1m17s\u001b[0m 34ms/step - loss: 0.8133 - loss/inference_loss: 0.8133\n"
     ]
    }
   ],
   "source": [
    "history = approximator.fit(\n",
    "    epochs=5,\n",
    "    num_batches=500,\n",
    "    batch_size=64,\n",
    "    # memory_budget=\"8 GiB\",\n",
    "    simulator=simulator\n",
    ")"
   ]
  },
  {
   "cell_type": "code",
   "execution_count": 17,
   "metadata": {},
   "outputs": [],
   "source": [
    "from bayesflow.types import Shape\n",
    "from numpy import ndarray\n",
    "\n",
    "\n",
    "class RdmSimulator(bf.simulators.Simulator):\n",
    "    def sample(self, batch_shape: tuple[int, ...], rng, **kwargs) -> dict[str, ndarray]:\n",
    "        print(kwargs)\n",
    "        prior_dict = prior(batch_shape, rng=rng)\n",
    "        num_obs_dict = num_obs(batch_shape, rng=rng, **kwargs)\n",
    "        data = batched_sim(batch_shape, **prior_dict, rng=rng, **num_obs_dict, **kwargs)\n",
    "        return data"
   ]
  },
  {
   "cell_type": "code",
   "execution_count": 18,
   "metadata": {},
   "outputs": [],
   "source": [
    "simulator = RdmSimulator()"
   ]
  },
  {
   "cell_type": "code",
   "execution_count": 19,
   "metadata": {},
   "outputs": [
    {
     "name": "stdout",
     "output_type": "stream",
     "text": [
      "{}\n"
     ]
    },
    {
     "data": {
      "text/plain": [
       "{'x': array([[[1.29160164, 0.        ],\n",
       "         [1.23875701, 1.        ],\n",
       "         [0.95308439, 1.        ],\n",
       "         ...,\n",
       "         [0.67960705, 1.        ],\n",
       "         [1.09005947, 0.        ],\n",
       "         [0.46358008, 1.        ]],\n",
       " \n",
       "        [[0.73348642, 0.        ],\n",
       "         [0.54917246, 1.        ],\n",
       "         [0.6059088 , 0.        ],\n",
       "         ...,\n",
       "         [0.3276139 , 1.        ],\n",
       "         [0.68810598, 1.        ],\n",
       "         [0.4210034 , 1.        ]],\n",
       " \n",
       "        [[0.38195942, 1.        ],\n",
       "         [0.53835735, 0.        ],\n",
       "         [0.38568983, 0.        ],\n",
       "         ...,\n",
       "         [0.39153377, 1.        ],\n",
       "         [0.50812967, 1.        ],\n",
       "         [0.28875576, 1.        ]],\n",
       " \n",
       "        ...,\n",
       " \n",
       "        [[1.24211333, 0.        ],\n",
       "         [0.34163651, 1.        ],\n",
       "         [0.4579847 , 1.        ],\n",
       "         ...,\n",
       "         [0.95142886, 1.        ],\n",
       "         [0.45873321, 1.        ],\n",
       "         [0.52265442, 1.        ]],\n",
       " \n",
       "        [[0.89800966, 1.        ],\n",
       "         [0.46239307, 1.        ],\n",
       "         [0.61321348, 1.        ],\n",
       "         ...,\n",
       "         [0.64153791, 1.        ],\n",
       "         [0.79721083, 0.        ],\n",
       "         [0.64867218, 1.        ]],\n",
       " \n",
       "        [[0.80088885, 1.        ],\n",
       "         [0.37586185, 1.        ],\n",
       "         [0.51844379, 1.        ],\n",
       "         ...,\n",
       "         [0.36072251, 1.        ],\n",
       "         [0.35980708, 1.        ],\n",
       "         [0.54814686, 0.        ]]])}"
      ]
     },
     "execution_count": 19,
     "metadata": {},
     "output_type": "execute_result"
    }
   ],
   "source": [
    "simulator.sample(batch_shape=(10,), rng=np.random.default_rng(2024))"
   ]
  },
  {
   "cell_type": "code",
   "execution_count": null,
   "metadata": {},
   "outputs": [],
   "source": []
  },
  {
   "cell_type": "code",
   "execution_count": null,
   "metadata": {},
   "outputs": [],
   "source": []
  }
 ],
 "metadata": {
  "kernelspec": {
   "display_name": "eam-abi-robustness",
   "language": "python",
   "name": "python3"
  },
  "language_info": {
   "codemirror_mode": {
    "name": "ipython",
    "version": 3
   },
   "file_extension": ".py",
   "mimetype": "text/x-python",
   "name": "python",
   "nbconvert_exporter": "python",
   "pygments_lexer": "ipython3",
   "version": "3.10.12"
  }
 },
 "nbformat": 4,
 "nbformat_minor": 2
}
