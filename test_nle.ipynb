{
 "cells": [
  {
   "cell_type": "code",
   "execution_count": 1,
   "metadata": {},
   "outputs": [
    {
     "name": "stderr",
     "output_type": "stream",
     "text": [
      "WARNING:pytensor.tensor.blas:Using NumPy C-API based implementation for BLAS functions.\n"
     ]
    }
   ],
   "source": [
    "from functools import partial\n",
    "\n",
    "import os\n",
    "if \"KERAS_BACKEND\" not in os.environ:\n",
    "    # set this to \"torch\", \"tensorflow\", or \"jax\"\n",
    "    os.environ[\"KERAS_BACKEND\"] = \"jax\"\n",
    "\n",
    "import matplotlib.pyplot as plt\n",
    "import numpy as np\n",
    "import bayesflow as bf\n",
    "import keras\n",
    "\n",
    "from priors import rdm_prior_simple\n",
    "from design import random_num_obs_discrete\n",
    "from simulation import rdm_experiment_simple, CustomSimulator, batch_simulator\n",
    "\n",
    "from bayesflow.utils import batched_call, tree_stack\n",
    "\n",
    "import jax\n",
    "\n",
    "from pymc_models import rdm_model_simple, RdmSimple"
   ]
  },
  {
   "cell_type": "code",
   "execution_count": 2,
   "metadata": {},
   "outputs": [],
   "source": [
    "rng = np.random.default_rng()"
   ]
  },
  {
   "cell_type": "code",
   "execution_count": 3,
   "metadata": {},
   "outputs": [],
   "source": [
    "prior_fun = partial(rdm_prior_simple, drift_intercept_loc=2,\n",
    "    drift_intercept_scale=1,\n",
    "    drift_slope_loc=2,\n",
    "    drift_slope_scale=1,\n",
    "    sd_true_shape=10,\n",
    "    sd_true_scale=0.2,\n",
    "    threshold_shape=10,\n",
    "    threshold_scale=0.2,\n",
    "    t0_loc=0.2,\n",
    "    t0_scale=0.1,\n",
    "    t0_lower=0,\n",
    "    rng=rng)"
   ]
  },
  {
   "cell_type": "code",
   "execution_count": 4,
   "metadata": {},
   "outputs": [],
   "source": [
    "num_obs_fun = partial(random_num_obs_discrete, values=[500], rng=rng)"
   ]
  },
  {
   "cell_type": "code",
   "execution_count": 5,
   "metadata": {},
   "outputs": [],
   "source": [
    "simulator = CustomSimulator(\n",
    "    prior_fun=prior_fun,\n",
    "    design_fun=num_obs_fun,\n",
    "    simulator_fun=partial(batch_simulator, simulator_fun=partial(rdm_experiment_simple, s_false=1, rng=rng)),\n",
    ")"
   ]
  },
  {
   "cell_type": "code",
   "execution_count": 6,
   "metadata": {},
   "outputs": [],
   "source": [
    "sample_data = simulator.sample((10,))"
   ]
  },
  {
   "cell_type": "code",
   "execution_count": 7,
   "metadata": {},
   "outputs": [
    {
     "name": "stdout",
     "output_type": "stream",
     "text": [
      "Type of sample_data:\n",
      "\t <class 'dict'>\n",
      "Keys of sample_data:\n",
      "\t dict_keys(['v_intercept', 'v_slope', 's_true', 'b', 't0', 'num_obs', 'x'])\n",
      "Types of sample_data values:\n",
      "\t {'v_intercept': <class 'numpy.ndarray'>, 'v_slope': <class 'numpy.ndarray'>, 's_true': <class 'numpy.ndarray'>, 'b': <class 'numpy.ndarray'>, 't0': <class 'numpy.ndarray'>, 'num_obs': <class 'numpy.ndarray'>, 'x': <class 'numpy.ndarray'>}\n",
      "Shapes of sample_data values:\n",
      "\t {'v_intercept': (10, 1), 'v_slope': (10, 1), 's_true': (10, 1), 'b': (10, 1), 't0': (10, 1), 'num_obs': (10, 1), 'x': (10, 500, 2)}\n"
     ]
    }
   ],
   "source": [
    "print(\"Type of sample_data:\\n\\t\", type(sample_data))\n",
    "print(\"Keys of sample_data:\\n\\t\", sample_data.keys())\n",
    "print(\"Types of sample_data values:\\n\\t\", {k: type(v) for k, v in sample_data.items()})\n",
    "print(\"Shapes of sample_data values:\\n\\t\", {k: v.shape for k, v in sample_data.items()})"
   ]
  },
  {
   "cell_type": "code",
   "execution_count": 8,
   "metadata": {},
   "outputs": [],
   "source": [
    "class LogTransform(bf.adapters.transforms.ElementwiseTransform):\n",
    "    def forward(self, data, **kwargs):\n",
    "        return np.log(data)\n",
    "    \n",
    "\n",
    "    def inverse(self, data, **kwargs):\n",
    "        return np.exp(data)"
   ]
  },
  {
   "cell_type": "code",
   "execution_count": 9,
   "metadata": {},
   "outputs": [],
   "source": [
    "class Broadcast(bf.adapters.transforms.Transform):\n",
    "    def __init__(self, keys, *, to: str, expand: str | int | tuple = \"left\", exclude: int | tuple = -1):\n",
    "        super().__init__()\n",
    "        self.keys = keys\n",
    "        self.to = to\n",
    "\n",
    "        if isinstance(expand, int):\n",
    "            expand = (expand,)\n",
    "\n",
    "        self.expand = expand\n",
    "\n",
    "        if isinstance(exclude, int):\n",
    "            exclude = (exclude,)\n",
    "\n",
    "        self.exclude = exclude\n",
    "\n",
    "\n",
    "    def forward(self, data, strict=True, **kwargs):\n",
    "        if strict:\n",
    "            target_shape = data[self.to].shape\n",
    "\n",
    "            data = data.copy()\n",
    "\n",
    "            for k in self.keys:\n",
    "                # ensure that .shape is defined\n",
    "                data[k] = np.asarray(data[k])\n",
    "                len_diff = len(target_shape) - len(data[k].shape)\n",
    "\n",
    "                if self.expand == \"left\":\n",
    "                    data[k] = np.expand_dims(data[k], axis=tuple(np.arange(0, len_diff)))\n",
    "                elif self.expand == \"right\":\n",
    "                    data[k] = np.expand_dims(data[k], axis=tuple(-np.arange(1, len_diff + 1)))\n",
    "                elif isinstance(self.expand, tuple):\n",
    "                    if len(self.expand) is not len_diff:\n",
    "                        raise ValueError(\"Length of `expand` must match the length difference of the involed arrays.\")\n",
    "                    data[k] = np.expand_dims(data[k], axis=self.expand)\n",
    "\n",
    "                new_shape = target_shape\n",
    "                if self.exclude is not None:\n",
    "                    new_shape = np.array(new_shape, dtype=int)\n",
    "                    old_shape = np.array(data[k].shape, dtype=int)\n",
    "                    exclude = list(self.exclude)\n",
    "                    new_shape[exclude] = old_shape[exclude]\n",
    "                    new_shape = tuple(new_shape)\n",
    "\n",
    "                data[k] = np.broadcast_to(data[k], new_shape)\n",
    "\n",
    "        return data\n",
    "    \n",
    "\n",
    "    def inverse(self, data: dict[str, np.ndarray], **kwargs) -> dict[str, np.ndarray]:\n",
    "        return data"
   ]
  },
  {
   "cell_type": "code",
   "execution_count": 10,
   "metadata": {},
   "outputs": [],
   "source": [
    "inference_variables = [\"x\"]\n",
    "inference_conditions = [\"v_intercept\", \"v_slope\", \"s_true\", \"b\", \"t0\"]\n",
    "\n",
    "adapter = (bf.adapters.Adapter()\n",
    "    # .to_array()\n",
    "    # .convert_dtype(\"float64\", \"float32\")\n",
    "    .drop(\"num_obs\")\n",
    "    .concatenate(inference_variables, into=\"inference_variables\")\n",
    "    .concatenate(inference_conditions, into=\"inference_conditions\")\n",
    "    # .add_transform(bf.adapters.transforms.FilterTransform(transform_constructor=LogTransform, include=\"inference_conditions\"))\n",
    "    # .standardize()\n",
    "    # .expand_dims(\"inference_conditions\", axis=1)\n",
    "    # .add_transform(Broadcast(keys=[\"inference_conditions\"], to=\"inference_variables\", expand=1))\n",
    "    .broadcast(\"inference_conditions\", to=\"inference_variables\", expand=1)\n",
    ")"
   ]
  },
  {
   "cell_type": "code",
   "execution_count": 11,
   "metadata": {},
   "outputs": [],
   "source": [
    "# inference_network = bf.networks.FlowMatching(\n",
    "#     subnet=\"mlp\",\n",
    "#     subnet_kwargs=dict(\n",
    "#         widths=[256] * 3,\n",
    "#         dropout=0.0,\n",
    "#     ),\n",
    "#     use_optimal_transport=False,\n",
    "# )\n",
    "inference_network = bf.networks.CouplingFlow()"
   ]
  },
  {
   "cell_type": "code",
   "execution_count": 12,
   "metadata": {},
   "outputs": [],
   "source": [
    "approximator = bf.ContinuousApproximator(\n",
    "    # summary_network=summary_network,\n",
    "    inference_network=inference_network,\n",
    "    adapter=adapter,\n",
    ")"
   ]
  },
  {
   "cell_type": "code",
   "execution_count": 13,
   "metadata": {},
   "outputs": [],
   "source": [
    "epochs = 5\n",
    "num_batches = 500\n",
    "batch_size = 64"
   ]
  },
  {
   "cell_type": "code",
   "execution_count": 14,
   "metadata": {},
   "outputs": [],
   "source": [
    "initial_learning_rate = 0.001\n",
    "scheduled_lr = keras.optimizers.schedules.CosineDecay(\n",
    "    initial_learning_rate=initial_learning_rate,\n",
    "    decay_steps=num_batches*epochs,\n",
    "    alpha=1e-8\n",
    ")\n",
    "\n",
    "optimizer = keras.optimizers.AdamW(learning_rate=scheduled_lr)"
   ]
  },
  {
   "cell_type": "code",
   "execution_count": 15,
   "metadata": {},
   "outputs": [],
   "source": [
    "approximator.compile(optimizer)"
   ]
  },
  {
   "cell_type": "code",
   "execution_count": 16,
   "metadata": {},
   "outputs": [
    {
     "name": "stderr",
     "output_type": "stream",
     "text": [
      "INFO:bayesflow:Building dataset from simulator instance of CustomSimulator.\n",
      "INFO:bayesflow:Using 32 data loading workers.\n",
      "INFO:bayesflow:Building on a test batch.\n"
     ]
    },
    {
     "name": "stdout",
     "output_type": "stream",
     "text": [
      "Epoch 1/5\n",
      "\u001b[1m500/500\u001b[0m \u001b[32m━━━━━━━━━━━━━━━━━━━━\u001b[0m\u001b[37m\u001b[0m \u001b[1m23s\u001b[0m 34ms/step - loss: 0.1136 - loss/inference_loss: 0.1136\n",
      "Epoch 2/5\n",
      "\u001b[1m500/500\u001b[0m \u001b[32m━━━━━━━━━━━━━━━━━━━━\u001b[0m\u001b[37m\u001b[0m \u001b[1m17s\u001b[0m 33ms/step - loss: -1.5891 - loss/inference_loss: -1.5891\n",
      "Epoch 3/5\n",
      "\u001b[1m500/500\u001b[0m \u001b[32m━━━━━━━━━━━━━━━━━━━━\u001b[0m\u001b[37m\u001b[0m \u001b[1m17s\u001b[0m 34ms/step - loss: -2.0882 - loss/inference_loss: -2.0882\n",
      "Epoch 4/5\n",
      "\u001b[1m500/500\u001b[0m \u001b[32m━━━━━━━━━━━━━━━━━━━━\u001b[0m\u001b[37m\u001b[0m \u001b[1m17s\u001b[0m 34ms/step - loss: -3.8149 - loss/inference_loss: -3.8149\n",
      "Epoch 5/5\n",
      "\u001b[1m500/500\u001b[0m \u001b[32m━━━━━━━━━━━━━━━━━━━━\u001b[0m\u001b[37m\u001b[0m \u001b[1m17s\u001b[0m 34ms/step - loss: -5.2158 - loss/inference_loss: -5.2158\n"
     ]
    }
   ],
   "source": [
    "history = approximator.fit(\n",
    "    epochs=epochs,\n",
    "    num_batches=num_batches,\n",
    "    batch_size=batch_size,\n",
    "    # memory_budget=\"8 GiB\",\n",
    "    simulator=simulator\n",
    ")"
   ]
  },
  {
   "cell_type": "code",
   "execution_count": 17,
   "metadata": {},
   "outputs": [],
   "source": [
    "test_data = simulator.sample((10,))\n",
    "# del test_data[\"x\"]"
   ]
  },
  {
   "cell_type": "code",
   "execution_count": 18,
   "metadata": {},
   "outputs": [],
   "source": [
    "test_prior = np.log(np.moveaxis([val for key, val in test_data.items() if key in inference_conditions], [0, 1, 2], [2, 0, 1]))"
   ]
  },
  {
   "cell_type": "code",
   "execution_count": 19,
   "metadata": {},
   "outputs": [
    {
     "data": {
      "text/plain": [
       "(10, 1, 5)"
      ]
     },
     "execution_count": 19,
     "metadata": {},
     "output_type": "execute_result"
    }
   ],
   "source": [
    "test_prior.shape"
   ]
  },
  {
   "cell_type": "code",
   "execution_count": 20,
   "metadata": {},
   "outputs": [],
   "source": [
    "sample_dict = {k: v for k, v in test_data.items() if k not in inference_variables}"
   ]
  },
  {
   "cell_type": "code",
   "execution_count": 21,
   "metadata": {},
   "outputs": [],
   "source": [
    "# posterior_samples = approximator.sample(conditions=sample_dict, num_samples=100)"
   ]
  },
  {
   "cell_type": "code",
   "execution_count": 22,
   "metadata": {},
   "outputs": [],
   "source": [
    "ll_nle = approximator.log_prob(test_data)"
   ]
  },
  {
   "cell_type": "code",
   "execution_count": 23,
   "metadata": {},
   "outputs": [],
   "source": [
    "ll_fun_vec = np.vectorize(rdm_model_simple, signature=\"(m,n)->()\")"
   ]
  },
  {
   "cell_type": "code",
   "execution_count": 25,
   "metadata": {},
   "outputs": [
    {
     "name": "stderr",
     "output_type": "stream",
     "text": [
      "2024-11-29 14:52:05.529487: E external/local_xla/xla/stream_executor/cuda/cuda_dnn.cc:9261] Unable to register cuDNN factory: Attempting to register factory for plugin cuDNN when one has already been registered\n",
      "2024-11-29 14:52:05.529519: E external/local_xla/xla/stream_executor/cuda/cuda_fft.cc:607] Unable to register cuFFT factory: Attempting to register factory for plugin cuFFT when one has already been registered\n",
      "2024-11-29 14:52:05.530527: E external/local_xla/xla/stream_executor/cuda/cuda_blas.cc:1515] Unable to register cuBLAS factory: Attempting to register factory for plugin cuBLAS when one has already been registered\n",
      "2024-11-29 14:52:06.144505: W tensorflow/compiler/tf2tensorrt/utils/py_utils.cc:38] TF-TRT Warning: Could not find TensorRT\n"
     ]
    }
   ],
   "source": [
    "ll_fun_batch = ll_fun_vec(test_data[\"x\"])"
   ]
  },
  {
   "cell_type": "code",
   "execution_count": 41,
   "metadata": {},
   "outputs": [],
   "source": [
    "ll_ref = np.array([fun(theta) for fun, theta in zip(ll_fun_batch, test_prior.squeeze())])"
   ]
  },
  {
   "cell_type": "code",
   "execution_count": 36,
   "metadata": {},
   "outputs": [
    {
     "data": {
      "text/plain": [
       "array([-11839.49219687, -13407.88754464, -11864.21049972, -11965.98450338,\n",
       "       -11971.34735786, -11288.03260741, -30722.43210926, -17347.13955573,\n",
       "       -19317.89014884, -18205.41160617])"
      ]
     },
     "execution_count": 36,
     "metadata": {},
     "output_type": "execute_result"
    }
   ],
   "source": [
    "ll_ref"
   ]
  },
  {
   "cell_type": "code",
   "execution_count": 37,
   "metadata": {},
   "outputs": [
    {
     "data": {
      "text/plain": [
       "array([2941.4243 , 3361.857  , 3179.8574 , 3104.9    , 3199.5117 ,\n",
       "       2567.304  ,  124.41373, 3233.4028 , 3469.7378 , 3391.796  ],\n",
       "      dtype=float32)"
      ]
     },
     "execution_count": 37,
     "metadata": {},
     "output_type": "execute_result"
    }
   ],
   "source": [
    "ll_nle.sum(axis=-1)"
   ]
  },
  {
   "cell_type": "code",
   "execution_count": 38,
   "metadata": {},
   "outputs": [
    {
     "data": {
      "text/plain": [
       "array([14780.91651328, 16769.74447824, 15044.06792159, 15070.88440573,\n",
       "       15170.85907661, 13855.33656249, 30846.84583607, 20580.54238776,\n",
       "       22787.62794181, 21597.20750461])"
      ]
     },
     "execution_count": 38,
     "metadata": {},
     "output_type": "execute_result"
    }
   ],
   "source": [
    "ll_nle.sum(axis=1)-ll_ref"
   ]
  },
  {
   "cell_type": "code",
   "execution_count": 39,
   "metadata": {},
   "outputs": [
    {
     "data": {
      "text/plain": [
       "array([[1.        , 0.74789225],\n",
       "       [0.74789225, 1.        ]])"
      ]
     },
     "execution_count": 39,
     "metadata": {},
     "output_type": "execute_result"
    }
   ],
   "source": [
    "np.corrcoef(ll_ref, ll_nle.sum(axis=1))"
   ]
  },
  {
   "cell_type": "code",
   "execution_count": 40,
   "metadata": {},
   "outputs": [
    {
     "data": {
      "text/plain": [
       "Text(0, 0.5, 'NLE likelihood')"
      ]
     },
     "execution_count": 40,
     "metadata": {},
     "output_type": "execute_result"
    },
    {
     "data": {
      "image/png": "[encoded data removed]",
      "text/plain": [
       "<Figure size 640x480 with 1 Axes>"
      ]
     },
     "metadata": {},
     "output_type": "display_data"
    }
   ],
   "source": [
    "fig, ax = plt.subplots(1, 1)\n",
    "\n",
    "ax.scatter(ll_ref, ll_nle.sum(axis=1), color=\"purple\")\n",
    "ax.axline([0, 0], slope=1, linestyle=\"--\", color=\"black\")\n",
    "# ax.set_ylim((-1000, 3000))\n",
    "ax.set_xlabel(\"Analytical likelihood\")\n",
    "ax.set_ylabel(\"NLE likelihood\")"
   ]
  },
  {
   "cell_type": "code",
   "execution_count": 17,
   "metadata": {},
   "outputs": [],
   "source": [
    "show_data = simulator.sample((1,), num_obs=10000)"
   ]
  },
  {
   "cell_type": "code",
   "execution_count": 18,
   "metadata": {},
   "outputs": [],
   "source": [
    "show_prior = np.log(np.moveaxis([val for key, val in show_data.items() if key in inference_conditions], [0, 1, 2], [2, 0, 1]))"
   ]
  },
  {
   "cell_type": "code",
   "execution_count": 19,
   "metadata": {},
   "outputs": [],
   "source": [
    "ll_nle_show = approximator.log_prob(show_data).squeeze()"
   ]
  },
  {
   "cell_type": "code",
   "execution_count": 113,
   "metadata": {},
   "outputs": [],
   "source": [
    "rt = show_data[\"x\"].squeeze()"
   ]
  },
  {
   "cell_type": "code",
   "execution_count": 142,
   "metadata": {},
   "outputs": [
    {
     "data": {
      "text/plain": [
       "<matplotlib.collections.PathCollection at 0x74e9b7fc6da0>"
      ]
     },
     "execution_count": 142,
     "metadata": {},
     "output_type": "execute_result"
    },
    {
     "data": {
      "image/png": "[encoded data removed]",
      "text/plain": [
       "<Figure size 640x480 with 1 Axes>"
      ]
     },
     "metadata": {},
     "output_type": "display_data"
    }
   ],
   "source": [
    "fig, ax = plt.subplots(1, 1)\n",
    "\n",
    "ax.hist(rt[rt[:, 1] == 1, 0], density=True)\n",
    "ax.hist(-rt[rt[:, 1] == 0, 0], density=True)\n",
    "\n",
    "ax.scatter(rt[rt[:, 1] == 1, 0], np.exp(ll_nle_show[rt[:, 1] == 1]), color=\"black\", s = 0.2)\n",
    "ax.scatter(-rt[rt[:, 1] == 0, 0], np.exp(ll_nle_show[rt[:, 1] == 0]), color=\"black\", s = 0.2)"
   ]
  },
  {
   "cell_type": "code",
   "execution_count": 17,
   "metadata": {},
   "outputs": [],
   "source": [
    "from pymc_models import run_mcmc\n",
    "\n",
    "import blackjax\n",
    "import jax.numpy as jnp"
   ]
  },
  {
   "cell_type": "code",
   "execution_count": 18,
   "metadata": {},
   "outputs": [
    {
     "data": {
      "text/plain": [
       "(10, 500, 5)"
      ]
     },
     "execution_count": 18,
     "metadata": {},
     "output_type": "execute_result"
    }
   ],
   "source": [
    "test_data = simulator.sample((10,))\n",
    "data = keras.tree.map_structure(keras.ops.convert_to_tensor, adapter(test_data, strict=True, stage=\"inference\"))\n",
    "data[\"inference_conditions\"].shape"
   ]
  },
  {
   "cell_type": "code",
   "execution_count": 19,
   "metadata": {},
   "outputs": [],
   "source": [
    "@jax.jit\n",
    "def logdensity_fun(x, data):\n",
    "    data[\"inference_conditions\"] = jnp.tile(x, (1, 500, 1))\n",
    "\n",
    "    return jnp.sum(approximator._log_prob(**data), axis=-1)"
   ]
  },
  {
   "cell_type": "code",
   "execution_count": 45,
   "metadata": {},
   "outputs": [
    {
     "data": {
      "text/plain": [
       "(10, 1, 5)"
      ]
     },
     "execution_count": 45,
     "metadata": {},
     "output_type": "execute_result"
    }
   ],
   "source": [
    "np.tile([2, 2, 1, 2, 0.2], [10, 1, 1]).shape"
   ]
  },
  {
   "cell_type": "code",
   "execution_count": 30,
   "metadata": {},
   "outputs": [
    {
     "data": {
      "text/plain": [
       "Array([ -6625.1895 , -32823.24   ,   2962.459  ,   -929.22546,\n",
       "       -19381.926  ,   2413.026  ,   2578.3875 ,   2504.8037 ,\n",
       "         2427.2937 ,   -951.4999 ], dtype=float32)"
      ]
     },
     "execution_count": 30,
     "metadata": {},
     "output_type": "execute_result"
    }
   ],
   "source": [
    "logdensity_fun(np.tile([2, 2, 1, 2, 0.2], [10, 1, 1]), data)"
   ]
  },
  {
   "cell_type": "code",
   "execution_count": 59,
   "metadata": {},
   "outputs": [
    {
     "ename": "TypeError",
     "evalue": "AdaptationAlgorithm.__new__() missing 1 required positional argument: 'run'",
     "output_type": "error",
     "traceback": [
      "\u001b[0;31m---------------------------------------------------------------------------\u001b[0m",
      "\u001b[0;31mTypeError\u001b[0m                                 Traceback (most recent call last)",
      "Cell \u001b[0;32mIn[59], line 1\u001b[0m\n\u001b[0;32m----> 1\u001b[0m \u001b[43mblackjax\u001b[49m\u001b[38;5;241;43m.\u001b[39;49m\u001b[43madaptation\u001b[49m\u001b[38;5;241;43m.\u001b[39;49m\u001b[43mwindow_adaptation\u001b[49m\u001b[38;5;241;43m.\u001b[39;49m\u001b[43mAdaptationAlgorithm\u001b[49m\u001b[43m(\u001b[49m\u001b[43m)\u001b[49m\n",
      "\u001b[0;31mTypeError\u001b[0m: AdaptationAlgorithm.__new__() missing 1 required positional argument: 'run'"
     ]
    }
   ],
   "source": [
    "blackjax.adaptation.window_adaptation.AdaptationAlgorithm()"
   ]
  },
  {
   "cell_type": "code",
   "execution_count": 53,
   "metadata": {},
   "outputs": [
    {
     "ename": "TypeError",
     "evalue": "Gradient only defined for scalar-output functions. Output had shape: (10,).",
     "output_type": "error",
     "traceback": [
      "\u001b[0;31m---------------------------------------------------------------------------\u001b[0m",
      "\u001b[0;31mTypeError\u001b[0m                                 Traceback (most recent call last)",
      "Cell \u001b[0;32mIn[53], line 2\u001b[0m\n\u001b[1;32m      1\u001b[0m adapt \u001b[38;5;241m=\u001b[39m blackjax\u001b[38;5;241m.\u001b[39mwindow_adaptation(blackjax\u001b[38;5;241m.\u001b[39mnuts, \u001b[38;5;28;01mlambda\u001b[39;00m x: logdensity_fun(x, data))\n\u001b[0;32m----> 2\u001b[0m (last_state, parameters), _ \u001b[38;5;241m=\u001b[39m \u001b[43madapt\u001b[49m\u001b[38;5;241;43m.\u001b[39;49m\u001b[43mrun\u001b[49m\u001b[43m(\u001b[49m\u001b[43mjax\u001b[49m\u001b[38;5;241;43m.\u001b[39;49m\u001b[43mrandom\u001b[49m\u001b[38;5;241;43m.\u001b[39;49m\u001b[43mPRNGKey\u001b[49m\u001b[43m(\u001b[49m\u001b[38;5;241;43m0\u001b[39;49m\u001b[43m)\u001b[49m\u001b[43m,\u001b[49m\u001b[43m \u001b[49m\u001b[43mnp\u001b[49m\u001b[38;5;241;43m.\u001b[39;49m\u001b[43mtile\u001b[49m\u001b[43m(\u001b[49m\u001b[43m[\u001b[49m\u001b[38;5;241;43m2\u001b[39;49m\u001b[43m,\u001b[49m\u001b[43m \u001b[49m\u001b[38;5;241;43m2\u001b[39;49m\u001b[43m,\u001b[49m\u001b[43m \u001b[49m\u001b[38;5;241;43m1\u001b[39;49m\u001b[43m,\u001b[49m\u001b[43m \u001b[49m\u001b[38;5;241;43m2\u001b[39;49m\u001b[43m,\u001b[49m\u001b[43m \u001b[49m\u001b[38;5;241;43m0.2\u001b[39;49m\u001b[43m]\u001b[49m\u001b[43m,\u001b[49m\u001b[43m \u001b[49m\u001b[43m[\u001b[49m\u001b[38;5;241;43m10\u001b[39;49m\u001b[43m,\u001b[49m\u001b[43m \u001b[49m\u001b[38;5;241;43m1\u001b[39;49m\u001b[43m,\u001b[49m\u001b[43m \u001b[49m\u001b[38;5;241;43m1\u001b[39;49m\u001b[43m]\u001b[49m\u001b[43m)\u001b[49m\u001b[43m,\u001b[49m\u001b[43m \u001b[49m\u001b[43mnum_steps\u001b[49m\u001b[38;5;241;43m=\u001b[39;49m\u001b[38;5;241;43m10\u001b[39;49m\u001b[43m)\u001b[49m\n",
      "File \u001b[0;32m~/Repositories/eam-abi-robustness/lib/python3.10/site-packages/blackjax/adaptation/window_adaptation.py:331\u001b[0m, in \u001b[0;36mwindow_adaptation.<locals>.run\u001b[0;34m(rng_key, position, num_steps)\u001b[0m\n\u001b[1;32m    330\u001b[0m \u001b[38;5;28;01mdef\u001b[39;00m \u001b[38;5;21mrun\u001b[39m(rng_key: PRNGKey, position: ArrayLikeTree, num_steps: \u001b[38;5;28mint\u001b[39m \u001b[38;5;241m=\u001b[39m \u001b[38;5;241m1000\u001b[39m):\n\u001b[0;32m--> 331\u001b[0m     init_state \u001b[38;5;241m=\u001b[39m \u001b[43malgorithm\u001b[49m\u001b[38;5;241;43m.\u001b[39;49m\u001b[43minit\u001b[49m\u001b[43m(\u001b[49m\u001b[43mposition\u001b[49m\u001b[43m,\u001b[49m\u001b[43m \u001b[49m\u001b[43mlogdensity_fn\u001b[49m\u001b[43m)\u001b[49m\n\u001b[1;32m    332\u001b[0m     init_adaptation_state \u001b[38;5;241m=\u001b[39m adapt_init(position, initial_step_size)\n\u001b[1;32m    334\u001b[0m     \u001b[38;5;28;01mif\u001b[39;00m progress_bar:\n",
      "File \u001b[0;32m~/Repositories/eam-abi-robustness/lib/python3.10/site-packages/blackjax/mcmc/hmc.py:89\u001b[0m, in \u001b[0;36minit\u001b[0;34m(position, logdensity_fn)\u001b[0m\n\u001b[1;32m     88\u001b[0m \u001b[38;5;28;01mdef\u001b[39;00m \u001b[38;5;21minit\u001b[39m(position: ArrayLikeTree, logdensity_fn: Callable):\n\u001b[0;32m---> 89\u001b[0m     logdensity, logdensity_grad \u001b[38;5;241m=\u001b[39m \u001b[43mjax\u001b[49m\u001b[38;5;241;43m.\u001b[39;49m\u001b[43mvalue_and_grad\u001b[49m\u001b[43m(\u001b[49m\u001b[43mlogdensity_fn\u001b[49m\u001b[43m)\u001b[49m\u001b[43m(\u001b[49m\u001b[43mposition\u001b[49m\u001b[43m)\u001b[49m\n\u001b[1;32m     90\u001b[0m     \u001b[38;5;28;01mreturn\u001b[39;00m HMCState(position, logdensity, logdensity_grad)\n",
      "    \u001b[0;31m[... skipping hidden 2 frame]\u001b[0m\n",
      "File \u001b[0;32m~/Repositories/eam-abi-robustness/lib/python3.10/site-packages/jax/_src/api.py:725\u001b[0m, in \u001b[0;36m_check_scalar\u001b[0;34m(x)\u001b[0m\n\u001b[1;32m    723\u001b[0m \u001b[38;5;28;01mif\u001b[39;00m \u001b[38;5;28misinstance\u001b[39m(aval, ShapedArray):\n\u001b[1;32m    724\u001b[0m   \u001b[38;5;28;01mif\u001b[39;00m aval\u001b[38;5;241m.\u001b[39mshape \u001b[38;5;241m!=\u001b[39m ():\n\u001b[0;32m--> 725\u001b[0m     \u001b[38;5;28;01mraise\u001b[39;00m \u001b[38;5;167;01mTypeError\u001b[39;00m(msg(\u001b[38;5;124mf\u001b[39m\u001b[38;5;124m\"\u001b[39m\u001b[38;5;124mhad shape: \u001b[39m\u001b[38;5;132;01m{\u001b[39;00maval\u001b[38;5;241m.\u001b[39mshape\u001b[38;5;132;01m}\u001b[39;00m\u001b[38;5;124m\"\u001b[39m))\n\u001b[1;32m    726\u001b[0m \u001b[38;5;28;01melse\u001b[39;00m:\n\u001b[1;32m    727\u001b[0m   \u001b[38;5;28;01mraise\u001b[39;00m \u001b[38;5;167;01mTypeError\u001b[39;00m(msg(\u001b[38;5;124mf\u001b[39m\u001b[38;5;124m\"\u001b[39m\u001b[38;5;124mhad abstract value \u001b[39m\u001b[38;5;132;01m{\u001b[39;00maval\u001b[38;5;132;01m}\u001b[39;00m\u001b[38;5;124m\"\u001b[39m))\n",
      "\u001b[0;31mTypeError\u001b[0m: Gradient only defined for scalar-output functions. Output had shape: (10,)."
     ]
    }
   ],
   "source": [
    "adapt = blackjax.window_adaptation(blackjax.nuts, lambda x: logdensity_fun(x, data))\n",
    "(last_state, parameters), _ = adapt.run(jax.random.PRNGKey(0), np.tile([2, 2, 1, 2, 0.2], [10, 1, 1]), num_steps=10)"
   ]
  },
  {
   "cell_type": "code",
   "execution_count": null,
   "metadata": {},
   "outputs": [],
   "source": []
  },
  {
   "cell_type": "code",
   "execution_count": 190,
   "metadata": {},
   "outputs": [],
   "source": [
    "def build_kernels(n):\n",
    "    return [blackjax.nuts.build_kernel() for _ in range(n)]\n",
    "\n",
    "\n",
    "def multi_nuts(rng_key, state, parameters, kernels, data, n):\n",
    "    sampling_keys = jax.random.split(rng_key, n)\n",
    "\n",
    "    state = state.copy()\n",
    "\n",
    "    init_positions = jnp.array([state[i].position for i in range(n)])[:, None, :]\n",
    "\n",
    "    logdensities = logdensity_fun(init_positions, data)\n",
    "\n",
    "    # jax.debug.print(\"{x}\", x=logdensities[0])\n",
    "\n",
    "    info = {}\n",
    "\n",
    "    for i in range(n):\n",
    "        def logd(x):\n",
    "            return logdensities[i]\n",
    "        state[i], info[i] = kernels[i](\n",
    "            rng_key=sampling_keys[i],\n",
    "            state=state[i],\n",
    "            logdensity_fn=logd,\n",
    "            step_size=parameters[i].step_size,\n",
    "            inverse_mass_matrix=parameters[i].inverse_mass_matrix\n",
    "        )\n",
    "    \n",
    "    return state, info"
   ]
  },
  {
   "cell_type": "code",
   "execution_count": 191,
   "metadata": {},
   "outputs": [],
   "source": [
    "import blackjax.mcmc as mcmc\n",
    "from blackjax.adaptation.base import AdaptationResults, return_all_adapt_info\n",
    "from blackjax.adaptation.mass_matrix import (\n",
    "    MassMatrixAdaptationState,\n",
    "    mass_matrix_adaptation,\n",
    ")\n",
    "from blackjax.adaptation.step_size import (\n",
    "    DualAveragingAdaptationState,\n",
    "    dual_averaging_adaptation,\n",
    ")\n",
    "from blackjax.base import AdaptationAlgorithm\n",
    "from blackjax.progress_bar import gen_scan_fn\n",
    "from blackjax.types import Array, ArrayLikeTree, PRNGKey\n",
    "from blackjax.util import pytree_size\n",
    "\n",
    "def window_adaptation(\n",
    "    n,\n",
    "    data,\n",
    "    is_mass_matrix_diagonal: bool = True,\n",
    "    initial_step_size: float = 1.0,\n",
    "    target_acceptance_rate: float = 0.80,\n",
    "    progress_bar: bool = False,\n",
    "    adaptation_info_fn = return_all_adapt_info,\n",
    "    integrator=mcmc.integrators.velocity_verlet\n",
    ") -> AdaptationAlgorithm:\n",
    "    kernels = [blackjax.nuts.build_kernel(integrator) for _ in range(n)]\n",
    "\n",
    "    adapt_init, adapt_step, adapt_final = blackjax.adaptation.window_adaptation.base(\n",
    "        is_mass_matrix_diagonal,\n",
    "        target_acceptance_rate=target_acceptance_rate,\n",
    "    )\n",
    "\n",
    "    def one_step(carry, xs):\n",
    "        _, rng_key, adaptation_stage = xs\n",
    "        state, adaptation_state = carry\n",
    "\n",
    "        new_state, info = multi_nuts(\n",
    "            rng_key,\n",
    "            state,\n",
    "            adaptation_state,\n",
    "            kernels,\n",
    "            data,\n",
    "            n\n",
    "        )\n",
    "        \n",
    "        new_adaptation_state = {i: adapt_step(\n",
    "            adaptation_state[i],\n",
    "            adaptation_stage,\n",
    "            new_state[i].position,\n",
    "            info[i].acceptance_rate,\n",
    "        ) for i in range(n)}\n",
    "\n",
    "        return (\n",
    "            (new_state, new_adaptation_state),\n",
    "            {i: adaptation_info_fn(new_state[i], info[i], new_adaptation_state[i]) for i in range(n)},\n",
    "        )\n",
    "\n",
    "    def run(rng_key, position, num_steps):\n",
    "        logdensities = logdensity_fun(jnp.tile(jnp.array(position), [n, 1, 1]), data)\n",
    "        init_state = {i: blackjax.nuts.init(position=jnp.array(position), logdensity_fn=lambda x: logdensities[i]) for i in range(n)}\n",
    "        init_adaptation_state = {i: adapt_init(position, initial_step_size) for i in range(n)}\n",
    "\n",
    "        scan_fn = gen_scan_fn(num_steps, progress_bar=progress_bar)\n",
    "        start_state = (init_state, init_adaptation_state)\n",
    "        keys = jax.random.split(rng_key, num_steps)\n",
    "        schedule = blackjax.adaptation.window_adaptation.build_schedule(num_steps)\n",
    "        \n",
    "        last_state, info = scan_fn(\n",
    "            one_step,\n",
    "            start_state,\n",
    "            (jnp.arange(num_steps), keys, schedule),\n",
    "        )\n",
    "\n",
    "        last_chain_state, last_warmup_state, *_ = last_state\n",
    "\n",
    "        parameters = {}\n",
    "\n",
    "        for i in range(n):\n",
    "            step_size, inverse_mass_matrix = adapt_final(last_warmup_state[i])\n",
    "            parameters[i] = {\n",
    "                \"step_size\": step_size,\n",
    "                \"inverse_mass_matrix\": inverse_mass_matrix\n",
    "            }\n",
    "\n",
    "        return (\n",
    "            AdaptationResults(\n",
    "                last_chain_state,\n",
    "                parameters,\n",
    "            ),\n",
    "            info,\n",
    "        )\n",
    "\n",
    "    return AdaptationAlgorithm(run)"
   ]
  },
  {
   "cell_type": "code",
   "execution_count": 192,
   "metadata": {},
   "outputs": [],
   "source": [
    "adapt = window_adaptation(10, data)"
   ]
  },
  {
   "cell_type": "code",
   "execution_count": 193,
   "metadata": {},
   "outputs": [],
   "source": [
    "state = adapt.run(jax.random.PRNGKey(0), [2, 2, 1, 2, 0.2], num_steps=1000)"
   ]
  },
  {
   "cell_type": "code",
   "execution_count": 197,
   "metadata": {},
   "outputs": [
    {
     "data": {
      "text/plain": [
       "Array([[0., 0., 0., 0., 0.],\n",
       "       [0., 0., 0., 0., 0.],\n",
       "       [0., 0., 0., 0., 0.],\n",
       "       ...,\n",
       "       [0., 0., 0., 0., 0.],\n",
       "       [0., 0., 0., 0., 0.],\n",
       "       [0., 0., 0., 0., 0.]], dtype=float64)"
      ]
     },
     "execution_count": 197,
     "metadata": {},
     "output_type": "execute_result"
    }
   ],
   "source": [
    "state[1][0].state.logdensity_grad"
   ]
  },
  {
   "cell_type": "code",
   "execution_count": 198,
   "metadata": {},
   "outputs": [],
   "source": [
    "from collections import namedtuple\n",
    "\n",
    "parameter_state = namedtuple(\"Parameters\", [\"step_size\", \"inverse_mass_matrix\"])\n",
    "\n",
    "def sampling_loop(rng_key, initial_state, parameters, kernels, data, n, num_samples):\n",
    "    @jax.jit\n",
    "    def one_step(state, rng_key):\n",
    "        state, info = multi_nuts(rng_key, state, parameters, kernels, data, n)\n",
    "        positions = {k: state[k].position for k in state.keys()}\n",
    "        return state, positions\n",
    "\n",
    "    keys = jax.random.split(rng_key, num_samples)\n",
    "    info, positions = jax.lax.scan(one_step, initial_state, keys)\n",
    "\n",
    "    return info, positions\n",
    "\n",
    "def demo_sampler():\n",
    "    num_datasets = 10\n",
    "\n",
    "    rng_key = jax.random.PRNGKey(0)\n",
    "\n",
    "    logdensities = logdensity_fun(jnp.tile(jnp.array([2, 2, 1, 2, 0.2]), [num_datasets, 1, 1]), data)\n",
    "\n",
    "    # Initialize parameters for each chain\n",
    "    initial_positions = {i: blackjax.nuts.init(position=jnp.array([2, 2, 1, 2, 0.2]), logdensity_fn=lambda x: logdensities[i]) for i in range(num_datasets)}\n",
    "    \n",
    "    # Set NUTS parameters\n",
    "    step_size = 1e-3\n",
    "    inverse_mass_matrix = jnp.eye(5)  # For 2D parameter space\n",
    "    \n",
    "    kernels = build_kernels(10)\n",
    "\n",
    "    # Create sampler functions\n",
    "    state = sampling_loop(rng_key, initial_positions, {i: parameter_state(step_size=step_size, inverse_mass_matrix=inverse_mass_matrix) for i in range(num_datasets)}, kernels, data, 10, num_samples=10)\n",
    "    \n",
    "    return state"
   ]
  },
  {
   "cell_type": "code",
   "execution_count": 189,
   "metadata": {},
   "outputs": [],
   "source": [
    "state = demo_sampler()"
   ]
  },
  {
   "cell_type": "code",
   "execution_count": 187,
   "metadata": {},
   "outputs": [
    {
     "data": {
      "text/plain": [
       "({0: HMCState(position=Array([ 3.16974707,  2.4318392 ,  1.15548793,  2.05544223, -0.39890506],      dtype=float64), logdensity=Array(2221.6868, dtype=float32), logdensity_grad=Array([0., 0., 0., 0., 0.], dtype=float64)),\n",
       "  1: HMCState(position=Array([1.9343078 , 2.20010328, 1.31522851, 2.01525538, 0.74819318],      dtype=float64), logdensity=Array(589.4463, dtype=float32), logdensity_grad=Array([0., 0., 0., 0., 0.], dtype=float64)),\n",
       "  2: HMCState(position=Array([ 0.46891924,  2.56092234,  1.31459238,  2.19095031, -0.25459214],      dtype=float64), logdensity=Array(2538.1301, dtype=float32), logdensity_grad=Array([0., 0., 0., 0., 0.], dtype=float64)),\n",
       "  3: HMCState(position=Array([ 1.61360844,  1.98202923,  0.36390615,  2.69153677, -0.71162164],      dtype=float64), logdensity=Array(1274.8635, dtype=float32), logdensity_grad=Array([0., 0., 0., 0., 0.], dtype=float64)),\n",
       "  4: HMCState(position=Array([2.45218923, 1.76453314, 0.76123007, 2.20274533, 1.0744152 ],      dtype=float64), logdensity=Array(2117.617, dtype=float32), logdensity_grad=Array([0., 0., 0., 0., 0.], dtype=float64)),\n",
       "  5: HMCState(position=Array([2.63693014, 1.67293626, 1.69926088, 1.68304863, 0.6444543 ],      dtype=float64), logdensity=Array(2506.4722, dtype=float32), logdensity_grad=Array([0., 0., 0., 0., 0.], dtype=float64)),\n",
       "  6: HMCState(position=Array([2.87003963, 1.46057846, 1.11720098, 1.69155001, 0.59850777],      dtype=float64), logdensity=Array(-6425.5986, dtype=float32), logdensity_grad=Array([0., 0., 0., 0., 0.], dtype=float64)),\n",
       "  7: HMCState(position=Array([ 2.46269389,  2.00906155,  1.0627088 ,  1.40816959, -1.06777959],      dtype=float64), logdensity=Array(840.59155, dtype=float32), logdensity_grad=Array([0., 0., 0., 0., 0.], dtype=float64)),\n",
       "  8: HMCState(position=Array([1.83161076, 1.13928486, 0.01897447, 2.04143041, 0.55036773],      dtype=float64), logdensity=Array(2512.5222, dtype=float32), logdensity_grad=Array([0., 0., 0., 0., 0.], dtype=float64)),\n",
       "  9: HMCState(position=Array([2.25898498, 3.31287134, 1.63484484, 0.92439051, 0.36908252],      dtype=float64), logdensity=Array(-2577.6162, dtype=float32), logdensity_grad=Array([0., 0., 0., 0., 0.], dtype=float64))},\n",
       " {0: Array([[ 3.06840671,  3.25831568,  1.50392227,  2.21275491, -0.13472896],\n",
       "         [ 3.16974707,  2.4318392 ,  1.15548793,  2.05544223, -0.39890506],\n",
       "         [ 3.16974707,  2.4318392 ,  1.15548793,  2.05544223, -0.39890506],\n",
       "         [ 3.16974707,  2.4318392 ,  1.15548793,  2.05544223, -0.39890506],\n",
       "         [ 3.16974707,  2.4318392 ,  1.15548793,  2.05544223, -0.39890506],\n",
       "         [ 3.16974707,  2.4318392 ,  1.15548793,  2.05544223, -0.39890506],\n",
       "         [ 3.16974707,  2.4318392 ,  1.15548793,  2.05544223, -0.39890506],\n",
       "         [ 3.16974707,  2.4318392 ,  1.15548793,  2.05544223, -0.39890506],\n",
       "         [ 3.16974707,  2.4318392 ,  1.15548793,  2.05544223, -0.39890506],\n",
       "         [ 3.16974707,  2.4318392 ,  1.15548793,  2.05544223, -0.39890506]],      dtype=float64),\n",
       "  1: Array([[1.9343078 , 2.20010328, 1.31522851, 2.01525538, 0.74819318],\n",
       "         [1.9343078 , 2.20010328, 1.31522851, 2.01525538, 0.74819318],\n",
       "         [1.9343078 , 2.20010328, 1.31522851, 2.01525538, 0.74819318],\n",
       "         [1.9343078 , 2.20010328, 1.31522851, 2.01525538, 0.74819318],\n",
       "         [1.9343078 , 2.20010328, 1.31522851, 2.01525538, 0.74819318],\n",
       "         [1.9343078 , 2.20010328, 1.31522851, 2.01525538, 0.74819318],\n",
       "         [1.9343078 , 2.20010328, 1.31522851, 2.01525538, 0.74819318],\n",
       "         [1.9343078 , 2.20010328, 1.31522851, 2.01525538, 0.74819318],\n",
       "         [1.9343078 , 2.20010328, 1.31522851, 2.01525538, 0.74819318],\n",
       "         [1.9343078 , 2.20010328, 1.31522851, 2.01525538, 0.74819318]],      dtype=float64),\n",
       "  2: Array([[ 0.46891924,  2.56092234,  1.31459238,  2.19095031, -0.25459214],\n",
       "         [ 0.46891924,  2.56092234,  1.31459238,  2.19095031, -0.25459214],\n",
       "         [ 0.46891924,  2.56092234,  1.31459238,  2.19095031, -0.25459214],\n",
       "         [ 0.46891924,  2.56092234,  1.31459238,  2.19095031, -0.25459214],\n",
       "         [ 0.46891924,  2.56092234,  1.31459238,  2.19095031, -0.25459214],\n",
       "         [ 0.46891924,  2.56092234,  1.31459238,  2.19095031, -0.25459214],\n",
       "         [ 0.46891924,  2.56092234,  1.31459238,  2.19095031, -0.25459214],\n",
       "         [ 0.46891924,  2.56092234,  1.31459238,  2.19095031, -0.25459214],\n",
       "         [ 0.46891924,  2.56092234,  1.31459238,  2.19095031, -0.25459214],\n",
       "         [ 0.46891924,  2.56092234,  1.31459238,  2.19095031, -0.25459214]],      dtype=float64),\n",
       "  3: Array([[ 1.61360844,  1.98202923,  0.36390615,  2.69153677, -0.71162164],\n",
       "         [ 1.61360844,  1.98202923,  0.36390615,  2.69153677, -0.71162164],\n",
       "         [ 1.61360844,  1.98202923,  0.36390615,  2.69153677, -0.71162164],\n",
       "         [ 1.61360844,  1.98202923,  0.36390615,  2.69153677, -0.71162164],\n",
       "         [ 1.61360844,  1.98202923,  0.36390615,  2.69153677, -0.71162164],\n",
       "         [ 1.61360844,  1.98202923,  0.36390615,  2.69153677, -0.71162164],\n",
       "         [ 1.61360844,  1.98202923,  0.36390615,  2.69153677, -0.71162164],\n",
       "         [ 1.61360844,  1.98202923,  0.36390615,  2.69153677, -0.71162164],\n",
       "         [ 1.61360844,  1.98202923,  0.36390615,  2.69153677, -0.71162164],\n",
       "         [ 1.61360844,  1.98202923,  0.36390615,  2.69153677, -0.71162164]],      dtype=float64),\n",
       "  4: Array([[2.45218923, 1.76453314, 0.76123007, 2.20274533, 1.0744152 ],\n",
       "         [2.45218923, 1.76453314, 0.76123007, 2.20274533, 1.0744152 ],\n",
       "         [2.45218923, 1.76453314, 0.76123007, 2.20274533, 1.0744152 ],\n",
       "         [2.45218923, 1.76453314, 0.76123007, 2.20274533, 1.0744152 ],\n",
       "         [2.45218923, 1.76453314, 0.76123007, 2.20274533, 1.0744152 ],\n",
       "         [2.45218923, 1.76453314, 0.76123007, 2.20274533, 1.0744152 ],\n",
       "         [2.45218923, 1.76453314, 0.76123007, 2.20274533, 1.0744152 ],\n",
       "         [2.45218923, 1.76453314, 0.76123007, 2.20274533, 1.0744152 ],\n",
       "         [2.45218923, 1.76453314, 0.76123007, 2.20274533, 1.0744152 ],\n",
       "         [2.45218923, 1.76453314, 0.76123007, 2.20274533, 1.0744152 ]],      dtype=float64),\n",
       "  5: Array([[2.74679087, 2.00582801, 1.23660188, 1.81610794, 0.36202209],\n",
       "         [2.63693014, 1.67293626, 1.69926088, 1.68304863, 0.6444543 ],\n",
       "         [2.63693014, 1.67293626, 1.69926088, 1.68304863, 0.6444543 ],\n",
       "         [2.63693014, 1.67293626, 1.69926088, 1.68304863, 0.6444543 ],\n",
       "         [2.63693014, 1.67293626, 1.69926088, 1.68304863, 0.6444543 ],\n",
       "         [2.63693014, 1.67293626, 1.69926088, 1.68304863, 0.6444543 ],\n",
       "         [2.63693014, 1.67293626, 1.69926088, 1.68304863, 0.6444543 ],\n",
       "         [2.63693014, 1.67293626, 1.69926088, 1.68304863, 0.6444543 ],\n",
       "         [2.63693014, 1.67293626, 1.69926088, 1.68304863, 0.6444543 ],\n",
       "         [2.63693014, 1.67293626, 1.69926088, 1.68304863, 0.6444543 ]],      dtype=float64),\n",
       "  6: Array([[2.87003963, 1.46057846, 1.11720098, 1.69155001, 0.59850777],\n",
       "         [2.87003963, 1.46057846, 1.11720098, 1.69155001, 0.59850777],\n",
       "         [2.87003963, 1.46057846, 1.11720098, 1.69155001, 0.59850777],\n",
       "         [2.87003963, 1.46057846, 1.11720098, 1.69155001, 0.59850777],\n",
       "         [2.87003963, 1.46057846, 1.11720098, 1.69155001, 0.59850777],\n",
       "         [2.87003963, 1.46057846, 1.11720098, 1.69155001, 0.59850777],\n",
       "         [2.87003963, 1.46057846, 1.11720098, 1.69155001, 0.59850777],\n",
       "         [2.87003963, 1.46057846, 1.11720098, 1.69155001, 0.59850777],\n",
       "         [2.87003963, 1.46057846, 1.11720098, 1.69155001, 0.59850777],\n",
       "         [2.87003963, 1.46057846, 1.11720098, 1.69155001, 0.59850777]],      dtype=float64),\n",
       "  7: Array([[ 1.99551276,  1.77154018,  0.82524252,  1.75147985,  0.08912805],\n",
       "         [ 2.46269389,  2.00906155,  1.0627088 ,  1.40816959, -1.06777959],\n",
       "         [ 2.46269389,  2.00906155,  1.0627088 ,  1.40816959, -1.06777959],\n",
       "         [ 2.46269389,  2.00906155,  1.0627088 ,  1.40816959, -1.06777959],\n",
       "         [ 2.46269389,  2.00906155,  1.0627088 ,  1.40816959, -1.06777959],\n",
       "         [ 2.46269389,  2.00906155,  1.0627088 ,  1.40816959, -1.06777959],\n",
       "         [ 2.46269389,  2.00906155,  1.0627088 ,  1.40816959, -1.06777959],\n",
       "         [ 2.46269389,  2.00906155,  1.0627088 ,  1.40816959, -1.06777959],\n",
       "         [ 2.46269389,  2.00906155,  1.0627088 ,  1.40816959, -1.06777959],\n",
       "         [ 2.46269389,  2.00906155,  1.0627088 ,  1.40816959, -1.06777959]],      dtype=float64),\n",
       "  8: Array([[1.83161076, 1.13928486, 0.01897447, 2.04143041, 0.55036773],\n",
       "         [1.83161076, 1.13928486, 0.01897447, 2.04143041, 0.55036773],\n",
       "         [1.83161076, 1.13928486, 0.01897447, 2.04143041, 0.55036773],\n",
       "         [1.83161076, 1.13928486, 0.01897447, 2.04143041, 0.55036773],\n",
       "         [1.83161076, 1.13928486, 0.01897447, 2.04143041, 0.55036773],\n",
       "         [1.83161076, 1.13928486, 0.01897447, 2.04143041, 0.55036773],\n",
       "         [1.83161076, 1.13928486, 0.01897447, 2.04143041, 0.55036773],\n",
       "         [1.83161076, 1.13928486, 0.01897447, 2.04143041, 0.55036773],\n",
       "         [1.83161076, 1.13928486, 0.01897447, 2.04143041, 0.55036773],\n",
       "         [1.83161076, 1.13928486, 0.01897447, 2.04143041, 0.55036773]],      dtype=float64),\n",
       "  9: Array([[2.25898498, 3.31287134, 1.63484484, 0.92439051, 0.36908252],\n",
       "         [2.25898498, 3.31287134, 1.63484484, 0.92439051, 0.36908252],\n",
       "         [2.25898498, 3.31287134, 1.63484484, 0.92439051, 0.36908252],\n",
       "         [2.25898498, 3.31287134, 1.63484484, 0.92439051, 0.36908252],\n",
       "         [2.25898498, 3.31287134, 1.63484484, 0.92439051, 0.36908252],\n",
       "         [2.25898498, 3.31287134, 1.63484484, 0.92439051, 0.36908252],\n",
       "         [2.25898498, 3.31287134, 1.63484484, 0.92439051, 0.36908252],\n",
       "         [2.25898498, 3.31287134, 1.63484484, 0.92439051, 0.36908252],\n",
       "         [2.25898498, 3.31287134, 1.63484484, 0.92439051, 0.36908252],\n",
       "         [2.25898498, 3.31287134, 1.63484484, 0.92439051, 0.36908252]],      dtype=float64)})"
      ]
     },
     "execution_count": 187,
     "metadata": {},
     "output_type": "execute_result"
    }
   ],
   "source": [
    "state"
   ]
  },
  {
   "cell_type": "code",
   "execution_count": 173,
   "metadata": {},
   "outputs": [
    {
     "ename": "ValueError",
     "evalue": "setting an array element with a sequence. The requested array has an inhomogeneous shape after 1 dimensions. The detected shape was (3,) + inhomogeneous part.",
     "output_type": "error",
     "traceback": [
      "\u001b[0;31m---------------------------------------------------------------------------\u001b[0m",
      "\u001b[0;31mValueError\u001b[0m                                Traceback (most recent call last)",
      "Cell \u001b[0;32mIn[173], line 1\u001b[0m\n\u001b[0;32m----> 1\u001b[0m \u001b[43mnp\u001b[49m\u001b[38;5;241;43m.\u001b[39;49m\u001b[43mexp\u001b[49m\u001b[43m(\u001b[49m\u001b[43mstate\u001b[49m\u001b[43m[\u001b[49m\u001b[38;5;241;43m0\u001b[39;49m\u001b[43m]\u001b[49m\u001b[43m)\u001b[49m\n",
      "\u001b[0;31mValueError\u001b[0m: setting an array element with a sequence. The requested array has an inhomogeneous shape after 1 dimensions. The detected shape was (3,) + inhomogeneous part."
     ]
    }
   ],
   "source": [
    "np.exp(state[0])"
   ]
  },
  {
   "cell_type": "code",
   "execution_count": 25,
   "metadata": {},
   "outputs": [],
   "source": [
    "import arviz"
   ]
  },
  {
   "cell_type": "code",
   "execution_count": 26,
   "metadata": {},
   "outputs": [
    {
     "data": {
      "text/plain": [
       "(1, 1000, 5)"
      ]
     },
     "execution_count": 26,
     "metadata": {},
     "output_type": "execute_result"
    }
   ],
   "source": [
    "trace[0].position.shape"
   ]
  },
  {
   "cell_type": "code",
   "execution_count": 27,
   "metadata": {},
   "outputs": [
    {
     "data": {
      "text/plain": [
       "[array([[2.0568496]]),\n",
       " array([[2.90657084]]),\n",
       " array([[1.92732845]]),\n",
       " array([[1.50858873]]),\n",
       " array([[0.27703856]])]"
      ]
     },
     "execution_count": 27,
     "metadata": {},
     "output_type": "execute_result"
    }
   ],
   "source": [
    "[v for k, v in test_data.items() if k in inference_conditions]"
   ]
  },
  {
   "cell_type": "code",
   "execution_count": 28,
   "metadata": {},
   "outputs": [
    {
     "data": {
      "text/plain": [
       "[<matplotlib.lines.Line2D at 0x7f3c3021fe20>,\n",
       " <matplotlib.lines.Line2D at 0x7f3c3021e860>,\n",
       " <matplotlib.lines.Line2D at 0x7f3c3021e7d0>,\n",
       " <matplotlib.lines.Line2D at 0x7f3c3021fd90>,\n",
       " <matplotlib.lines.Line2D at 0x7f3c3021faf0>]"
      ]
     },
     "execution_count": 28,
     "metadata": {},
     "output_type": "execute_result"
    },
    {
     "data": {
      "image/png": "[encoded data removed]",
      "text/plain": [
       "<Figure size 640x480 with 1 Axes>"
      ]
     },
     "metadata": {},
     "output_type": "display_data"
    }
   ],
   "source": [
    "plt.plot(trace[0].position[0,:,:])\n",
    "# plt.scatter(np.array([[i, v.squeeze()] for i, (k, v) in enumerate(test_data.items()) if k in inference_conditions]))\n",
    "# plt.legend()"
   ]
  },
  {
   "cell_type": "code",
   "execution_count": null,
   "metadata": {},
   "outputs": [],
   "source": []
  }
 ],
 "metadata": {
  "kernelspec": {
   "display_name": "eam-abi-robustness",
   "language": "python",
   "name": "python3"
  },
  "language_info": {
   "codemirror_mode": {
    "name": "ipython",
    "version": 3
   },
   "file_extension": ".py",
   "mimetype": "text/x-python",
   "name": "python",
   "nbconvert_exporter": "python",
   "pygments_lexer": "ipython3",
   "version": "3.10.12"
  }
 },
 "nbformat": 4,
 "nbformat_minor": 2
}
